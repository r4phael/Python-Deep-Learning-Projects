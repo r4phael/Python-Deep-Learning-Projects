{
  "nbformat": 4,
  "nbformat_minor": 0,
  "metadata": {
    "colab": {
      "name": "Regressao_Multipla.ipynb",
      "provenance": [],
      "collapsed_sections": [
        "TsV0SiuwpZ7i",
        "QaGBc_KwpeVt",
        "VUZAwJjMvh0r"
      ],
      "toc_visible": true,
      "include_colab_link": true
    },
    "kernelspec": {
      "name": "python3",
      "display_name": "Python 3"
    }
  },
  "cells": [
    {
      "cell_type": "markdown",
      "metadata": {
        "id": "view-in-github",
        "colab_type": "text"
      },
      "source": [
        "<a href=\"https://colab.research.google.com/github/r4phael/Python-Deep-Learning-Projects/blob/master/notebooks/2_semana/Regressao_Multipla.ipynb\" target=\"_parent\"><img src=\"https://colab.research.google.com/assets/colab-badge.svg\" alt=\"Open In Colab\"/></a>"
      ]
    },
    {
      "cell_type": "markdown",
      "metadata": {
        "id": "EB3dPPlgQeVt",
        "colab_type": "text"
      },
      "source": [
        "# Modelos de Regressão: Regressão Linear Múltipla"
      ]
    },
    {
      "cell_type": "markdown",
      "metadata": {
        "id": "TsV0SiuwpZ7i",
        "colab_type": "text"
      },
      "source": [
        "### Importando libs e funções:"
      ]
    },
    {
      "cell_type": "markdown",
      "metadata": {
        "id": "k6l8c0olEHpN",
        "colab_type": "text"
      },
      "source": [
        "Importando libs"
      ]
    },
    {
      "cell_type": "code",
      "metadata": {
        "id": "i7FF5Glb_NrK",
        "colab_type": "code",
        "colab": {}
      },
      "source": [
        "import pandas as pd\n",
        "import random\n",
        "import numpy as np\n",
        "import matplotlib.pyplot as plt\n",
        "from sklearn.preprocessing import StandardScaler \n",
        "from sklearn.metrics import confusion_matrix\n",
        "from sklearn.model_selection import train_test_split\n",
        "from sklearn.metrics import f1_score\n",
        "from matplotlib.colors import ListedColormap"
      ],
      "execution_count": 0,
      "outputs": []
    },
    {
      "cell_type": "markdown",
      "metadata": {
        "id": "L7RydZ0qEIl4",
        "colab_type": "text"
      },
      "source": [
        "Importando funções"
      ]
    },
    {
      "cell_type": "code",
      "metadata": {
        "id": "KxneBJZUEIz4",
        "colab_type": "code",
        "colab": {}
      },
      "source": [
        "# Função de escalonamento\n",
        "def feature_scaling(data):\n",
        "    sc = StandardScaler()\n",
        "    return sc.fit_transform(data)\n",
        "\n",
        "# Função que gera o gráfico dos resultados de regressão\n",
        "def plot_results_linear(X, y, regressor, title):\n",
        "    plt.scatter(X, y, color = 'red')\n",
        "    plt.plot(X, regressor.predict(X), color = 'blue')\n",
        "    plt.title(title)\n",
        "    plt.xlabel('Tamanho do Lote')\n",
        "    plt.ylabel('Preço de Vendas')\n",
        "    plt.show()\n",
        "\n",
        "# Função que gera o gráfico dos resultados de regerssão polinomial\n",
        "def plot_results_poly(X, y, lin_reg_poly, poly_reg, title):\n",
        "    plt.scatter(X, y, color = 'red')\n",
        "    plt.plot(X, lin_reg_poly.predict(poly_reg.fit_transform(X)), color = 'blue')\n",
        "    plt.title(title)\n",
        "    plt.xlabel('Tamanho do Lote')\n",
        "    plt.ylabel('Preço de Vendas')\n",
        "    plt.show()    \n",
        "    \n",
        "# Função que gera o gráfico dos resultados de arvores\n",
        "def plot_results_reg(X, y, regressor, title):     \n",
        "    X_grid = np.arange(min(X), max(X), 0.01)\n",
        "    X_grid = X_grid.reshape((len(X_grid), 1))\n",
        "    plt.scatter(X, y, color = 'red')\n",
        "    plt.plot(X_grid, regressor.predict(X_grid), color = 'blue')\n",
        "    plt.title(title)\n",
        "    plt.xlabel('Tamanho do Lote')\n",
        "    plt.ylabel('Preço de Vendas')\n",
        "    plt.show()\n",
        "     "
      ],
      "execution_count": 0,
      "outputs": []
    },
    {
      "cell_type": "markdown",
      "metadata": {
        "id": "QaGBc_KwpeVt",
        "colab_type": "text"
      },
      "source": [
        "### Etapa de exploração e tratamento dos **dados**"
      ]
    },
    {
      "cell_type": "markdown",
      "metadata": {
        "id": "ZfESkLx0EjB8",
        "colab_type": "text"
      },
      "source": [
        "Importando o dataset do nosso estudo. O objetivo dos modelos de regressão será de predizer o preço das casas de acordo com diferentes caracteristicas como: localização, área, etc.\n",
        "\n",
        "Fonte: [Kaggle](https://www.kaggle.com/c/house-prices-advanced-regression-techniques/data)"
      ]
    },
    {
      "cell_type": "code",
      "metadata": {
        "id": "Yq6eIh3NJnuN",
        "colab_type": "code",
        "colab": {}
      },
      "source": [
        "df = pd.read_csv('https://raw.githubusercontent.com/intelligentagents/aprendizagem-supervisionada/master/data/pricing_houses_small.csv')\n",
        "\n",
        "#Selecionando uma amostragem dos dados para uma melhor visualização\n",
        "df = df.loc[:, ['LotArea', 'PoolArea', 'GarageArea', 'OverallCond','YearBuilt', 'MSZoning', 'SalePrice']]"
      ],
      "execution_count": 0,
      "outputs": []
    },
    {
      "cell_type": "markdown",
      "metadata": {
        "id": "g-LzSHX1Jpg1",
        "colab_type": "text"
      },
      "source": [
        "Descrevendo o dataset"
      ]
    },
    {
      "cell_type": "code",
      "metadata": {
        "id": "hpLEK45DJomb",
        "colab_type": "code",
        "outputId": "bcace5e2-035f-4e8b-ed04-d21036a25367",
        "colab": {
          "base_uri": "https://localhost:8080/",
          "height": 297
        }
      },
      "source": [
        "df.describe()"
      ],
      "execution_count": 5,
      "outputs": [
        {
          "output_type": "execute_result",
          "data": {
            "text/html": [
              "<div>\n",
              "<style scoped>\n",
              "    .dataframe tbody tr th:only-of-type {\n",
              "        vertical-align: middle;\n",
              "    }\n",
              "\n",
              "    .dataframe tbody tr th {\n",
              "        vertical-align: top;\n",
              "    }\n",
              "\n",
              "    .dataframe thead th {\n",
              "        text-align: right;\n",
              "    }\n",
              "</style>\n",
              "<table border=\"1\" class=\"dataframe\">\n",
              "  <thead>\n",
              "    <tr style=\"text-align: right;\">\n",
              "      <th></th>\n",
              "      <th>LotArea</th>\n",
              "      <th>PoolArea</th>\n",
              "      <th>GarageArea</th>\n",
              "      <th>OverallCond</th>\n",
              "      <th>YearBuilt</th>\n",
              "      <th>SalePrice</th>\n",
              "    </tr>\n",
              "  </thead>\n",
              "  <tbody>\n",
              "    <tr>\n",
              "      <th>count</th>\n",
              "      <td>60.000000</td>\n",
              "      <td>60.0</td>\n",
              "      <td>60.000000</td>\n",
              "      <td>60.000000</td>\n",
              "      <td>60.000000</td>\n",
              "      <td>60.000000</td>\n",
              "    </tr>\n",
              "    <tr>\n",
              "      <th>mean</th>\n",
              "      <td>11633.933333</td>\n",
              "      <td>0.0</td>\n",
              "      <td>504.683333</td>\n",
              "      <td>5.783333</td>\n",
              "      <td>1972.116667</td>\n",
              "      <td>197536.150000</td>\n",
              "    </tr>\n",
              "    <tr>\n",
              "      <th>std</th>\n",
              "      <td>8099.879028</td>\n",
              "      <td>0.0</td>\n",
              "      <td>222.427554</td>\n",
              "      <td>1.180228</td>\n",
              "      <td>30.522618</td>\n",
              "      <td>74910.507145</td>\n",
              "    </tr>\n",
              "    <tr>\n",
              "      <th>min</th>\n",
              "      <td>1477.000000</td>\n",
              "      <td>0.0</td>\n",
              "      <td>0.000000</td>\n",
              "      <td>3.000000</td>\n",
              "      <td>1875.000000</td>\n",
              "      <td>80000.000000</td>\n",
              "    </tr>\n",
              "    <tr>\n",
              "      <th>25%</th>\n",
              "      <td>8068.500000</td>\n",
              "      <td>0.0</td>\n",
              "      <td>440.000000</td>\n",
              "      <td>5.000000</td>\n",
              "      <td>1950.750000</td>\n",
              "      <td>142250.000000</td>\n",
              "    </tr>\n",
              "    <tr>\n",
              "      <th>50%</th>\n",
              "      <td>10510.000000</td>\n",
              "      <td>0.0</td>\n",
              "      <td>542.000000</td>\n",
              "      <td>5.000000</td>\n",
              "      <td>1976.500000</td>\n",
              "      <td>188750.000000</td>\n",
              "    </tr>\n",
              "    <tr>\n",
              "      <th>75%</th>\n",
              "      <td>12010.750000</td>\n",
              "      <td>0.0</td>\n",
              "      <td>607.250000</td>\n",
              "      <td>7.000000</td>\n",
              "      <td>2002.000000</td>\n",
              "      <td>235032.000000</td>\n",
              "    </tr>\n",
              "    <tr>\n",
              "      <th>max</th>\n",
              "      <td>53227.000000</td>\n",
              "      <td>0.0</td>\n",
              "      <td>1014.000000</td>\n",
              "      <td>9.000000</td>\n",
              "      <td>2009.000000</td>\n",
              "      <td>437154.000000</td>\n",
              "    </tr>\n",
              "  </tbody>\n",
              "</table>\n",
              "</div>"
            ],
            "text/plain": [
              "            LotArea  PoolArea  ...    YearBuilt      SalePrice\n",
              "count     60.000000      60.0  ...    60.000000      60.000000\n",
              "mean   11633.933333       0.0  ...  1972.116667  197536.150000\n",
              "std     8099.879028       0.0  ...    30.522618   74910.507145\n",
              "min     1477.000000       0.0  ...  1875.000000   80000.000000\n",
              "25%     8068.500000       0.0  ...  1950.750000  142250.000000\n",
              "50%    10510.000000       0.0  ...  1976.500000  188750.000000\n",
              "75%    12010.750000       0.0  ...  2002.000000  235032.000000\n",
              "max    53227.000000       0.0  ...  2009.000000  437154.000000\n",
              "\n",
              "[8 rows x 6 columns]"
            ]
          },
          "metadata": {
            "tags": []
          },
          "execution_count": 5
        }
      ]
    },
    {
      "cell_type": "markdown",
      "metadata": {
        "id": "tgh2pe9lJtr6",
        "colab_type": "text"
      },
      "source": [
        "Visualizando o dataset"
      ]
    },
    {
      "cell_type": "code",
      "metadata": {
        "id": "EvY28fJdJxey",
        "colab_type": "code",
        "outputId": "b06300d2-add2-4c00-f192-52a2e732edf8",
        "colab": {
          "base_uri": "https://localhost:8080/",
          "height": 204
        }
      },
      "source": [
        "df.head(5)"
      ],
      "execution_count": 0,
      "outputs": [
        {
          "output_type": "execute_result",
          "data": {
            "text/html": [
              "<div>\n",
              "<style scoped>\n",
              "    .dataframe tbody tr th:only-of-type {\n",
              "        vertical-align: middle;\n",
              "    }\n",
              "\n",
              "    .dataframe tbody tr th {\n",
              "        vertical-align: top;\n",
              "    }\n",
              "\n",
              "    .dataframe thead th {\n",
              "        text-align: right;\n",
              "    }\n",
              "</style>\n",
              "<table border=\"1\" class=\"dataframe\">\n",
              "  <thead>\n",
              "    <tr style=\"text-align: right;\">\n",
              "      <th></th>\n",
              "      <th>LotArea</th>\n",
              "      <th>PoolArea</th>\n",
              "      <th>GarageArea</th>\n",
              "      <th>OverallCond</th>\n",
              "      <th>YearBuilt</th>\n",
              "      <th>MSZoning</th>\n",
              "      <th>SalePrice</th>\n",
              "    </tr>\n",
              "  </thead>\n",
              "  <tbody>\n",
              "    <tr>\n",
              "      <th>0</th>\n",
              "      <td>8450</td>\n",
              "      <td>0</td>\n",
              "      <td>548</td>\n",
              "      <td>5</td>\n",
              "      <td>2003</td>\n",
              "      <td>RL</td>\n",
              "      <td>208500</td>\n",
              "    </tr>\n",
              "    <tr>\n",
              "      <th>1</th>\n",
              "      <td>9600</td>\n",
              "      <td>0</td>\n",
              "      <td>460</td>\n",
              "      <td>8</td>\n",
              "      <td>1976</td>\n",
              "      <td>RL</td>\n",
              "      <td>181500</td>\n",
              "    </tr>\n",
              "    <tr>\n",
              "      <th>2</th>\n",
              "      <td>11250</td>\n",
              "      <td>0</td>\n",
              "      <td>608</td>\n",
              "      <td>5</td>\n",
              "      <td>2001</td>\n",
              "      <td>RL</td>\n",
              "      <td>223500</td>\n",
              "    </tr>\n",
              "    <tr>\n",
              "      <th>3</th>\n",
              "      <td>9550</td>\n",
              "      <td>0</td>\n",
              "      <td>642</td>\n",
              "      <td>5</td>\n",
              "      <td>1915</td>\n",
              "      <td>RL</td>\n",
              "      <td>140000</td>\n",
              "    </tr>\n",
              "    <tr>\n",
              "      <th>4</th>\n",
              "      <td>14260</td>\n",
              "      <td>0</td>\n",
              "      <td>836</td>\n",
              "      <td>5</td>\n",
              "      <td>2000</td>\n",
              "      <td>RL</td>\n",
              "      <td>250000</td>\n",
              "    </tr>\n",
              "  </tbody>\n",
              "</table>\n",
              "</div>"
            ],
            "text/plain": [
              "   LotArea  PoolArea  GarageArea  OverallCond  YearBuilt MSZoning  SalePrice\n",
              "0     8450         0         548            5       2003       RL     208500\n",
              "1     9600         0         460            8       1976       RL     181500\n",
              "2    11250         0         608            5       2001       RL     223500\n",
              "3     9550         0         642            5       1915       RL     140000\n",
              "4    14260         0         836            5       2000       RL     250000"
            ]
          },
          "metadata": {
            "tags": []
          },
          "execution_count": 237
        }
      ]
    },
    {
      "cell_type": "markdown",
      "metadata": {
        "id": "jiMAqVghJylz",
        "colab_type": "text"
      },
      "source": [
        "Preenchendo os valores númericos nulos (NA) com a mediana."
      ]
    },
    {
      "cell_type": "code",
      "metadata": {
        "id": "KFDodNK4JzlR",
        "colab_type": "code",
        "outputId": "11e16af0-7111-42a8-fa5a-b813693d64df",
        "colab": {
          "base_uri": "https://localhost:8080/",
          "height": 204
        }
      },
      "source": [
        "df = df.fillna(df.median())\n",
        "\n",
        "df.head(5)"
      ],
      "execution_count": 0,
      "outputs": [
        {
          "output_type": "execute_result",
          "data": {
            "text/html": [
              "<div>\n",
              "<style scoped>\n",
              "    .dataframe tbody tr th:only-of-type {\n",
              "        vertical-align: middle;\n",
              "    }\n",
              "\n",
              "    .dataframe tbody tr th {\n",
              "        vertical-align: top;\n",
              "    }\n",
              "\n",
              "    .dataframe thead th {\n",
              "        text-align: right;\n",
              "    }\n",
              "</style>\n",
              "<table border=\"1\" class=\"dataframe\">\n",
              "  <thead>\n",
              "    <tr style=\"text-align: right;\">\n",
              "      <th></th>\n",
              "      <th>LotArea</th>\n",
              "      <th>PoolArea</th>\n",
              "      <th>GarageArea</th>\n",
              "      <th>OverallCond</th>\n",
              "      <th>YearBuilt</th>\n",
              "      <th>MSZoning</th>\n",
              "      <th>SalePrice</th>\n",
              "    </tr>\n",
              "  </thead>\n",
              "  <tbody>\n",
              "    <tr>\n",
              "      <th>0</th>\n",
              "      <td>8450</td>\n",
              "      <td>0</td>\n",
              "      <td>548</td>\n",
              "      <td>5</td>\n",
              "      <td>2003</td>\n",
              "      <td>RL</td>\n",
              "      <td>208500</td>\n",
              "    </tr>\n",
              "    <tr>\n",
              "      <th>1</th>\n",
              "      <td>9600</td>\n",
              "      <td>0</td>\n",
              "      <td>460</td>\n",
              "      <td>8</td>\n",
              "      <td>1976</td>\n",
              "      <td>RL</td>\n",
              "      <td>181500</td>\n",
              "    </tr>\n",
              "    <tr>\n",
              "      <th>2</th>\n",
              "      <td>11250</td>\n",
              "      <td>0</td>\n",
              "      <td>608</td>\n",
              "      <td>5</td>\n",
              "      <td>2001</td>\n",
              "      <td>RL</td>\n",
              "      <td>223500</td>\n",
              "    </tr>\n",
              "    <tr>\n",
              "      <th>3</th>\n",
              "      <td>9550</td>\n",
              "      <td>0</td>\n",
              "      <td>642</td>\n",
              "      <td>5</td>\n",
              "      <td>1915</td>\n",
              "      <td>RL</td>\n",
              "      <td>140000</td>\n",
              "    </tr>\n",
              "    <tr>\n",
              "      <th>4</th>\n",
              "      <td>14260</td>\n",
              "      <td>0</td>\n",
              "      <td>836</td>\n",
              "      <td>5</td>\n",
              "      <td>2000</td>\n",
              "      <td>RL</td>\n",
              "      <td>250000</td>\n",
              "    </tr>\n",
              "  </tbody>\n",
              "</table>\n",
              "</div>"
            ],
            "text/plain": [
              "   LotArea  PoolArea  GarageArea  OverallCond  YearBuilt MSZoning  SalePrice\n",
              "0     8450         0         548            5       2003       RL     208500\n",
              "1     9600         0         460            8       1976       RL     181500\n",
              "2    11250         0         608            5       2001       RL     223500\n",
              "3     9550         0         642            5       1915       RL     140000\n",
              "4    14260         0         836            5       2000       RL     250000"
            ]
          },
          "metadata": {
            "tags": []
          },
          "execution_count": 238
        }
      ]
    },
    {
      "cell_type": "markdown",
      "metadata": {
        "id": "jXWksGyoJ0u3",
        "colab_type": "text"
      },
      "source": [
        "Definindo as variáveis independentes"
      ]
    },
    {
      "cell_type": "code",
      "metadata": {
        "id": "lJ0y3JijJ1ii",
        "colab_type": "code",
        "outputId": "fc0ba041-626e-403f-f36e-a0b3fbfe3415",
        "colab": {
          "base_uri": "https://localhost:8080/",
          "height": 102
        }
      },
      "source": [
        "X = df.loc[:, 'LotArea'].values.reshape(-1,1)\n",
        "X[:5]\n"
      ],
      "execution_count": 0,
      "outputs": [
        {
          "output_type": "execute_result",
          "data": {
            "text/plain": [
              "array([[ 8450],\n",
              "       [ 9600],\n",
              "       [11250],\n",
              "       [ 9550],\n",
              "       [14260]])"
            ]
          },
          "metadata": {
            "tags": []
          },
          "execution_count": 239
        }
      ]
    },
    {
      "cell_type": "markdown",
      "metadata": {
        "id": "uISYBhKqUqpQ",
        "colab_type": "text"
      },
      "source": [
        "Definindo as variáveis dependentes."
      ]
    },
    {
      "cell_type": "code",
      "metadata": {
        "id": "okQl0J1SUq9h",
        "colab_type": "code",
        "outputId": "d7c38a52-ee55-478a-9f50-af39542fe538",
        "colab": {
          "base_uri": "https://localhost:8080/",
          "height": 102
        }
      },
      "source": [
        "y = df.loc[:, 'SalePrice'].values.reshape(-1,1)\n",
        "y[:5]\n"
      ],
      "execution_count": 0,
      "outputs": [
        {
          "output_type": "execute_result",
          "data": {
            "text/plain": [
              "array([[208500],\n",
              "       [181500],\n",
              "       [223500],\n",
              "       [140000],\n",
              "       [250000]])"
            ]
          },
          "metadata": {
            "tags": []
          },
          "execution_count": 240
        }
      ]
    },
    {
      "cell_type": "markdown",
      "metadata": {
        "colab_type": "text",
        "id": "VUZAwJjMvh0r"
      },
      "source": [
        "###  Etapa de Classificação e Validação do Modelo"
      ]
    },
    {
      "cell_type": "markdown",
      "metadata": {
        "id": "ZOIXAi6Wvpce",
        "colab_type": "text"
      },
      "source": [
        "Selecionando as principais features do dataset:"
      ]
    },
    {
      "cell_type": "code",
      "metadata": {
        "id": "et8CNkI1vpk2",
        "colab_type": "code",
        "outputId": "5b82c6a2-0346-4de7-f897-68ec246fd933",
        "colab": {
          "base_uri": "https://localhost:8080/",
          "height": 204
        }
      },
      "source": [
        "df = df.loc[:, ['LotArea', 'PoolArea', 'GarageArea', 'OverallCond','YearBuilt', 'MSZoning', 'SalePrice']].reindex()\n",
        "\n",
        "df.head(5)"
      ],
      "execution_count": 0,
      "outputs": [
        {
          "output_type": "execute_result",
          "data": {
            "text/html": [
              "<div>\n",
              "<style scoped>\n",
              "    .dataframe tbody tr th:only-of-type {\n",
              "        vertical-align: middle;\n",
              "    }\n",
              "\n",
              "    .dataframe tbody tr th {\n",
              "        vertical-align: top;\n",
              "    }\n",
              "\n",
              "    .dataframe thead th {\n",
              "        text-align: right;\n",
              "    }\n",
              "</style>\n",
              "<table border=\"1\" class=\"dataframe\">\n",
              "  <thead>\n",
              "    <tr style=\"text-align: right;\">\n",
              "      <th></th>\n",
              "      <th>LotArea</th>\n",
              "      <th>PoolArea</th>\n",
              "      <th>GarageArea</th>\n",
              "      <th>OverallCond</th>\n",
              "      <th>YearBuilt</th>\n",
              "      <th>MSZoning</th>\n",
              "      <th>SalePrice</th>\n",
              "    </tr>\n",
              "  </thead>\n",
              "  <tbody>\n",
              "    <tr>\n",
              "      <th>0</th>\n",
              "      <td>8450</td>\n",
              "      <td>0</td>\n",
              "      <td>548</td>\n",
              "      <td>5</td>\n",
              "      <td>2003</td>\n",
              "      <td>RL</td>\n",
              "      <td>208500</td>\n",
              "    </tr>\n",
              "    <tr>\n",
              "      <th>1</th>\n",
              "      <td>9600</td>\n",
              "      <td>0</td>\n",
              "      <td>460</td>\n",
              "      <td>8</td>\n",
              "      <td>1976</td>\n",
              "      <td>RL</td>\n",
              "      <td>181500</td>\n",
              "    </tr>\n",
              "    <tr>\n",
              "      <th>2</th>\n",
              "      <td>11250</td>\n",
              "      <td>0</td>\n",
              "      <td>608</td>\n",
              "      <td>5</td>\n",
              "      <td>2001</td>\n",
              "      <td>RL</td>\n",
              "      <td>223500</td>\n",
              "    </tr>\n",
              "    <tr>\n",
              "      <th>3</th>\n",
              "      <td>9550</td>\n",
              "      <td>0</td>\n",
              "      <td>642</td>\n",
              "      <td>5</td>\n",
              "      <td>1915</td>\n",
              "      <td>RL</td>\n",
              "      <td>140000</td>\n",
              "    </tr>\n",
              "    <tr>\n",
              "      <th>4</th>\n",
              "      <td>14260</td>\n",
              "      <td>0</td>\n",
              "      <td>836</td>\n",
              "      <td>5</td>\n",
              "      <td>2000</td>\n",
              "      <td>RL</td>\n",
              "      <td>250000</td>\n",
              "    </tr>\n",
              "  </tbody>\n",
              "</table>\n",
              "</div>"
            ],
            "text/plain": [
              "   LotArea  PoolArea  GarageArea  OverallCond  YearBuilt MSZoning  SalePrice\n",
              "0     8450         0         548            5       2003       RL     208500\n",
              "1     9600         0         460            8       1976       RL     181500\n",
              "2    11250         0         608            5       2001       RL     223500\n",
              "3     9550         0         642            5       1915       RL     140000\n",
              "4    14260         0         836            5       2000       RL     250000"
            ]
          },
          "metadata": {
            "tags": []
          },
          "execution_count": 241
        }
      ]
    },
    {
      "cell_type": "markdown",
      "metadata": {
        "id": "ZjC2LJYh1SQ6",
        "colab_type": "text"
      },
      "source": [
        "Exibir os valores distintos da coluna MSZoning. **Segue legenda:**\n",
        "FV-Residencial de Vila Flutuante, RH- Residencial de Densidade Alta, RL-Residencial de Densidade Baixa, RM-Residencial de Densidade Média."
      ]
    },
    {
      "cell_type": "code",
      "metadata": {
        "id": "SeWh_rpnYkLd",
        "colab_type": "code",
        "outputId": "58ec4049-ab3a-4c72-be4c-921620731399",
        "colab": {
          "base_uri": "https://localhost:8080/",
          "height": 34
        }
      },
      "source": [
        "df['MSZoning'].unique()"
      ],
      "execution_count": 0,
      "outputs": [
        {
          "output_type": "execute_result",
          "data": {
            "text/plain": [
              "array(['RL', 'RM', 'C (all)', 'FV', 'RH'], dtype=object)"
            ]
          },
          "metadata": {
            "tags": []
          },
          "execution_count": 242
        }
      ]
    },
    {
      "cell_type": "markdown",
      "metadata": {
        "id": "eumBvAB8wbq-",
        "colab_type": "text"
      },
      "source": [
        "Codificando as variáveis Categóricos e evitando a armadilha da variável Dummy. **Obs:** Algumas técnicas de aprendizado de máquina exigem que você elimine uma dimensão da apresentação para evitar a dependência entre as variáveis. Isso pode ser feito através do parâmetro \"drop_first = True\"."
      ]
    },
    {
      "cell_type": "code",
      "metadata": {
        "id": "rjT1ONG7wb9x",
        "colab_type": "code",
        "outputId": "cd492757-3b55-42bc-feb6-43de14ff9341",
        "colab": {
          "base_uri": "https://localhost:8080/",
          "height": 204
        }
      },
      "source": [
        "df = pd.get_dummies(df , columns = ['MSZoning'], drop_first=True)\n",
        "\n",
        "df.head(5)"
      ],
      "execution_count": 0,
      "outputs": [
        {
          "output_type": "execute_result",
          "data": {
            "text/html": [
              "<div>\n",
              "<style scoped>\n",
              "    .dataframe tbody tr th:only-of-type {\n",
              "        vertical-align: middle;\n",
              "    }\n",
              "\n",
              "    .dataframe tbody tr th {\n",
              "        vertical-align: top;\n",
              "    }\n",
              "\n",
              "    .dataframe thead th {\n",
              "        text-align: right;\n",
              "    }\n",
              "</style>\n",
              "<table border=\"1\" class=\"dataframe\">\n",
              "  <thead>\n",
              "    <tr style=\"text-align: right;\">\n",
              "      <th></th>\n",
              "      <th>LotArea</th>\n",
              "      <th>PoolArea</th>\n",
              "      <th>GarageArea</th>\n",
              "      <th>OverallCond</th>\n",
              "      <th>YearBuilt</th>\n",
              "      <th>SalePrice</th>\n",
              "      <th>MSZoning_FV</th>\n",
              "      <th>MSZoning_RH</th>\n",
              "      <th>MSZoning_RL</th>\n",
              "      <th>MSZoning_RM</th>\n",
              "    </tr>\n",
              "  </thead>\n",
              "  <tbody>\n",
              "    <tr>\n",
              "      <th>0</th>\n",
              "      <td>8450</td>\n",
              "      <td>0</td>\n",
              "      <td>548</td>\n",
              "      <td>5</td>\n",
              "      <td>2003</td>\n",
              "      <td>208500</td>\n",
              "      <td>0</td>\n",
              "      <td>0</td>\n",
              "      <td>1</td>\n",
              "      <td>0</td>\n",
              "    </tr>\n",
              "    <tr>\n",
              "      <th>1</th>\n",
              "      <td>9600</td>\n",
              "      <td>0</td>\n",
              "      <td>460</td>\n",
              "      <td>8</td>\n",
              "      <td>1976</td>\n",
              "      <td>181500</td>\n",
              "      <td>0</td>\n",
              "      <td>0</td>\n",
              "      <td>1</td>\n",
              "      <td>0</td>\n",
              "    </tr>\n",
              "    <tr>\n",
              "      <th>2</th>\n",
              "      <td>11250</td>\n",
              "      <td>0</td>\n",
              "      <td>608</td>\n",
              "      <td>5</td>\n",
              "      <td>2001</td>\n",
              "      <td>223500</td>\n",
              "      <td>0</td>\n",
              "      <td>0</td>\n",
              "      <td>1</td>\n",
              "      <td>0</td>\n",
              "    </tr>\n",
              "    <tr>\n",
              "      <th>3</th>\n",
              "      <td>9550</td>\n",
              "      <td>0</td>\n",
              "      <td>642</td>\n",
              "      <td>5</td>\n",
              "      <td>1915</td>\n",
              "      <td>140000</td>\n",
              "      <td>0</td>\n",
              "      <td>0</td>\n",
              "      <td>1</td>\n",
              "      <td>0</td>\n",
              "    </tr>\n",
              "    <tr>\n",
              "      <th>4</th>\n",
              "      <td>14260</td>\n",
              "      <td>0</td>\n",
              "      <td>836</td>\n",
              "      <td>5</td>\n",
              "      <td>2000</td>\n",
              "      <td>250000</td>\n",
              "      <td>0</td>\n",
              "      <td>0</td>\n",
              "      <td>1</td>\n",
              "      <td>0</td>\n",
              "    </tr>\n",
              "  </tbody>\n",
              "</table>\n",
              "</div>"
            ],
            "text/plain": [
              "   LotArea  PoolArea  GarageArea  ...  MSZoning_RH  MSZoning_RL  MSZoning_RM\n",
              "0     8450         0         548  ...            0            1            0\n",
              "1     9600         0         460  ...            0            1            0\n",
              "2    11250         0         608  ...            0            1            0\n",
              "3     9550         0         642  ...            0            1            0\n",
              "4    14260         0         836  ...            0            1            0\n",
              "\n",
              "[5 rows x 10 columns]"
            ]
          },
          "metadata": {
            "tags": []
          },
          "execution_count": 243
        }
      ]
    },
    {
      "cell_type": "markdown",
      "metadata": {
        "id": "i9fs5x8MvpxV",
        "colab_type": "text"
      },
      "source": [
        "Definindo as variáveis indepedentes e dependentes e dividindo o dataset em conjunto de treinamento e testes:"
      ]
    },
    {
      "cell_type": "code",
      "metadata": {
        "id": "b9uRFW2vvp6b",
        "colab_type": "code",
        "colab": {}
      },
      "source": [
        "X = df[df.columns[~df.columns.isin(['SalePrice'])]].values\n",
        "y = df['SalePrice'].values.reshape(-1,1)\n",
        "\n",
        "# Dividindo os dados\n",
        "X_train, X_test, y_train, y_test = train_test_split(X, y, test_size = 0.2, random_state = 42)"
      ],
      "execution_count": 0,
      "outputs": []
    },
    {
      "cell_type": "markdown",
      "metadata": {
        "id": "OcQtLvcXJ7NT",
        "colab_type": "text"
      },
      "source": [
        "Normalizando as features "
      ]
    },
    {
      "cell_type": "code",
      "metadata": {
        "id": "aXvlvQ9DJ7i3",
        "colab_type": "code",
        "outputId": "8fa737f1-578b-4644-de0f-b1ee66fcc7d0",
        "colab": {
          "base_uri": "https://localhost:8080/",
          "height": 187
        }
      },
      "source": [
        "X_train = feature_scaling(X_train)\n",
        "X_test = feature_scaling(X_test)\n",
        "\n",
        "X_train[:5]"
      ],
      "execution_count": 0,
      "outputs": [
        {
          "output_type": "execute_result",
          "data": {
            "text/plain": [
              "array([[-0.21289571, -0.07099284, -0.86383727,  0.3722173 , -0.45546896,\n",
              "        -0.21802209, -0.11405937,  0.5138767 , -0.41556078],\n",
              "       [-0.26524463, -0.07099284, -0.45626397,  1.26860866,  0.71860895,\n",
              "        -0.21802209, -0.11405937,  0.5138767 , -0.41556078],\n",
              "       [-0.17784146, -0.07099284, -2.25716927,  1.26860866, -1.98829291,\n",
              "        -0.21802209, -0.11405937,  0.5138767 , -0.41556078],\n",
              "       [-0.32447422, -0.07099284, -1.11975539,  1.26860866, -1.10773447,\n",
              "        -0.21802209, -0.11405937,  0.5138767 , -0.41556078],\n",
              "       [-0.52903482, -0.07099284, -0.79748813,  0.3722173 , -1.53170705,\n",
              "        -0.21802209, -0.11405937,  0.5138767 , -0.41556078]])"
            ]
          },
          "metadata": {
            "tags": []
          },
          "execution_count": 245
        }
      ]
    },
    {
      "cell_type": "markdown",
      "metadata": {
        "colab_type": "text",
        "id": "SMaN0iHNvh0t"
      },
      "source": [
        "Importando e treinando o modelo de Regressao Linear Multipla com o Conjunto de Treinamento:"
      ]
    },
    {
      "cell_type": "code",
      "metadata": {
        "colab_type": "code",
        "outputId": "0ce99d9c-c744-4034-fec4-7cdc01565225",
        "id": "VuzaRxyuvh0u",
        "colab": {
          "base_uri": "https://localhost:8080/",
          "height": 34
        }
      },
      "source": [
        "from sklearn.linear_model import LinearRegression\n",
        "\n",
        "regressor = LinearRegression()\n",
        "regressor.fit(X_train, y_train)"
      ],
      "execution_count": 0,
      "outputs": [
        {
          "output_type": "execute_result",
          "data": {
            "text/plain": [
              "LinearRegression(copy_X=True, fit_intercept=True, n_jobs=None, normalize=False)"
            ]
          },
          "metadata": {
            "tags": []
          },
          "execution_count": 246
        }
      ]
    },
    {
      "cell_type": "markdown",
      "metadata": {
        "colab_type": "text",
        "id": "zT6PUXkWvh0y"
      },
      "source": [
        "Prevendo os resultados do modelo criado com o conjunto de testes"
      ]
    },
    {
      "cell_type": "code",
      "metadata": {
        "colab_type": "code",
        "outputId": "1da72340-52a8-4022-a2e5-363eb7f76251",
        "id": "JR-E180Fvh0y",
        "colab": {
          "base_uri": "https://localhost:8080/",
          "height": 102
        }
      },
      "source": [
        "y_pred = regressor.predict(X_test)\n",
        "\n",
        "y_pred[:5]"
      ],
      "execution_count": 0,
      "outputs": [
        {
          "output_type": "execute_result",
          "data": {
            "text/plain": [
              "array([[162102.94940288],\n",
              "       [241746.81922749],\n",
              "       [119733.72469521],\n",
              "       [147800.757112  ],\n",
              "       [285853.71056469]])"
            ]
          },
          "metadata": {
            "tags": []
          },
          "execution_count": 247
        }
      ]
    },
    {
      "cell_type": "markdown",
      "metadata": {
        "colab_type": "text",
        "id": "PO6sGI3Gvh01"
      },
      "source": [
        "Avaliando o modelo com a métrica r2"
      ]
    },
    {
      "cell_type": "code",
      "metadata": {
        "colab_type": "code",
        "outputId": "6f12ba33-16a7-4559-de51-fb0201398258",
        "id": "fQPgnd8dvh02",
        "colab": {
          "base_uri": "https://localhost:8080/",
          "height": 34
        }
      },
      "source": [
        "regressor.score(X_test, y_test)"
      ],
      "execution_count": 0,
      "outputs": [
        {
          "output_type": "execute_result",
          "data": {
            "text/plain": [
              "0.5043465841755175"
            ]
          },
          "metadata": {
            "tags": []
          },
          "execution_count": 248
        }
      ]
    }
  ]
}