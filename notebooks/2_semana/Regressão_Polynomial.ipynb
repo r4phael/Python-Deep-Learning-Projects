{
  "nbformat": 4,
  "nbformat_minor": 0,
  "metadata": {
    "colab": {
      "name": "Regressão_Polynomial.ipynb",
      "provenance": [],
      "collapsed_sections": [
        "TsV0SiuwpZ7i",
        "QaGBc_KwpeVt",
        "hDpjk2hPqBar"
      ],
      "toc_visible": true,
      "include_colab_link": true
    },
    "kernelspec": {
      "name": "python3",
      "display_name": "Python 3"
    }
  },
  "cells": [
    {
      "cell_type": "markdown",
      "metadata": {
        "id": "view-in-github",
        "colab_type": "text"
      },
      "source": [
        "<a href=\"https://colab.research.google.com/github/r4phael/Python-Deep-Learning-Projects/blob/master/notebooks/2_semana/Regress%C3%A3o_Polynomial.ipynb\" target=\"_parent\"><img src=\"https://colab.research.google.com/assets/colab-badge.svg\" alt=\"Open In Colab\"/></a>"
      ]
    },
    {
      "cell_type": "markdown",
      "metadata": {
        "id": "EB3dPPlgQeVt",
        "colab_type": "text"
      },
      "source": [
        "# Modelos de Regressão: Regressão Polynomial"
      ]
    },
    {
      "cell_type": "markdown",
      "metadata": {
        "id": "TsV0SiuwpZ7i",
        "colab_type": "text"
      },
      "source": [
        "### Importando libs e funções:"
      ]
    },
    {
      "cell_type": "markdown",
      "metadata": {
        "id": "k6l8c0olEHpN",
        "colab_type": "text"
      },
      "source": [
        "Importando libs"
      ]
    },
    {
      "cell_type": "code",
      "metadata": {
        "id": "i7FF5Glb_NrK",
        "colab_type": "code",
        "colab": {}
      },
      "source": [
        "import pandas as pd\n",
        "import random\n",
        "import numpy as np\n",
        "import matplotlib.pyplot as plt\n",
        "from sklearn.preprocessing import StandardScaler \n",
        "from sklearn.metrics import confusion_matrix\n",
        "from sklearn.model_selection import train_test_split\n",
        "from sklearn.metrics import f1_score\n",
        "from matplotlib.colors import ListedColormap"
      ],
      "execution_count": 0,
      "outputs": []
    },
    {
      "cell_type": "markdown",
      "metadata": {
        "id": "L7RydZ0qEIl4",
        "colab_type": "text"
      },
      "source": [
        "Importando funções"
      ]
    },
    {
      "cell_type": "code",
      "metadata": {
        "id": "KxneBJZUEIz4",
        "colab_type": "code",
        "colab": {}
      },
      "source": [
        "# Função de escalonamento\n",
        "def feature_scaling(data):\n",
        "    sc = StandardScaler()\n",
        "    return sc.fit_transform(data)\n",
        "\n",
        "# Função que gera o gráfico dos resultados de regressão\n",
        "def plot_results_linear(X, y, regressor, title):\n",
        "    plt.scatter(X, y, color = 'red')\n",
        "    plt.plot(X, regressor.predict(X), color = 'blue')\n",
        "    plt.title(title)\n",
        "    plt.xlabel('Tamanho do Lote')\n",
        "    plt.ylabel('Preço de Vendas')\n",
        "    plt.show()\n",
        "\n",
        "# Função que gera o gráfico dos resultados de regerssão polinomial\n",
        "def plot_results_poly(X, y, lin_reg_poly, poly_reg, title):\n",
        "    plt.scatter(X, y, color = 'red')\n",
        "    plt.plot(X, lin_reg_poly.predict(poly_reg.fit_transform(X)), color = 'blue')\n",
        "    plt.title(title)\n",
        "    plt.xlabel('Tamanho do Lote')\n",
        "    plt.ylabel('Preço de Vendas')\n",
        "    plt.show()    \n",
        "    \n",
        "# Função que gera o gráfico dos resultados de arvores\n",
        "def plot_results_reg(X, y, regressor, title):     \n",
        "    X_grid = np.arange(min(X), max(X), 0.01)\n",
        "    X_grid = X_grid.reshape((len(X_grid), 1))\n",
        "    plt.scatter(X, y, color = 'red')\n",
        "    plt.plot(X_grid, regressor.predict(X_grid), color = 'blue')\n",
        "    plt.title(title)\n",
        "    plt.xlabel('Tamanho do Lote')\n",
        "    plt.ylabel('Preço de Vendas')\n",
        "    plt.show()\n",
        "     "
      ],
      "execution_count": 0,
      "outputs": []
    },
    {
      "cell_type": "markdown",
      "metadata": {
        "id": "QaGBc_KwpeVt",
        "colab_type": "text"
      },
      "source": [
        "### Etapa de exploração e tratamento dos **dados**"
      ]
    },
    {
      "cell_type": "markdown",
      "metadata": {
        "id": "ZfESkLx0EjB8",
        "colab_type": "text"
      },
      "source": [
        "Importando o dataset do nosso estudo. O objetivo dos modelos de regressão será de predizer o preço das casas de acordo com diferentes caracteristicas como: localização, área, etc.\n",
        "\n",
        "Fonte: [Kaggle](https://www.kaggle.com/c/house-prices-advanced-regression-techniques/data)"
      ]
    },
    {
      "cell_type": "code",
      "metadata": {
        "id": "Yq6eIh3NJnuN",
        "colab_type": "code",
        "colab": {}
      },
      "source": [
        "df = pd.read_csv('https://raw.githubusercontent.com/intelligentagents/aprendizagem-supervisionada/master/data/pricing_houses_small.csv')\n",
        "\n",
        "#Selecionando uma amostragem dos dados para uma melhor visualização\n",
        "df = df.loc[:, ['LotArea', 'PoolArea', 'GarageArea', 'OverallCond','YearBuilt', 'MSZoning', 'SalePrice']].sample(n=60, random_state=0, weights = 'SalePrice')"
      ],
      "execution_count": 0,
      "outputs": []
    },
    {
      "cell_type": "markdown",
      "metadata": {
        "id": "g-LzSHX1Jpg1",
        "colab_type": "text"
      },
      "source": [
        "Descrevendo o dataset"
      ]
    },
    {
      "cell_type": "code",
      "metadata": {
        "id": "hpLEK45DJomb",
        "colab_type": "code",
        "outputId": "68b7c2d6-e1ce-4fbd-fcce-e66c30090c23",
        "colab": {
          "base_uri": "https://localhost:8080/",
          "height": 297
        }
      },
      "source": [
        "df.describe()"
      ],
      "execution_count": 4,
      "outputs": [
        {
          "output_type": "execute_result",
          "data": {
            "text/html": [
              "<div>\n",
              "<style scoped>\n",
              "    .dataframe tbody tr th:only-of-type {\n",
              "        vertical-align: middle;\n",
              "    }\n",
              "\n",
              "    .dataframe tbody tr th {\n",
              "        vertical-align: top;\n",
              "    }\n",
              "\n",
              "    .dataframe thead th {\n",
              "        text-align: right;\n",
              "    }\n",
              "</style>\n",
              "<table border=\"1\" class=\"dataframe\">\n",
              "  <thead>\n",
              "    <tr style=\"text-align: right;\">\n",
              "      <th></th>\n",
              "      <th>LotArea</th>\n",
              "      <th>PoolArea</th>\n",
              "      <th>GarageArea</th>\n",
              "      <th>OverallCond</th>\n",
              "      <th>YearBuilt</th>\n",
              "      <th>SalePrice</th>\n",
              "    </tr>\n",
              "  </thead>\n",
              "  <tbody>\n",
              "    <tr>\n",
              "      <th>count</th>\n",
              "      <td>60.000000</td>\n",
              "      <td>60.0</td>\n",
              "      <td>60.000000</td>\n",
              "      <td>60.000000</td>\n",
              "      <td>60.000000</td>\n",
              "      <td>60.000000</td>\n",
              "    </tr>\n",
              "    <tr>\n",
              "      <th>mean</th>\n",
              "      <td>11633.933333</td>\n",
              "      <td>0.0</td>\n",
              "      <td>504.683333</td>\n",
              "      <td>5.783333</td>\n",
              "      <td>1972.116667</td>\n",
              "      <td>197536.150000</td>\n",
              "    </tr>\n",
              "    <tr>\n",
              "      <th>std</th>\n",
              "      <td>8099.879028</td>\n",
              "      <td>0.0</td>\n",
              "      <td>222.427554</td>\n",
              "      <td>1.180228</td>\n",
              "      <td>30.522618</td>\n",
              "      <td>74910.507145</td>\n",
              "    </tr>\n",
              "    <tr>\n",
              "      <th>min</th>\n",
              "      <td>1477.000000</td>\n",
              "      <td>0.0</td>\n",
              "      <td>0.000000</td>\n",
              "      <td>3.000000</td>\n",
              "      <td>1875.000000</td>\n",
              "      <td>80000.000000</td>\n",
              "    </tr>\n",
              "    <tr>\n",
              "      <th>25%</th>\n",
              "      <td>8068.500000</td>\n",
              "      <td>0.0</td>\n",
              "      <td>440.000000</td>\n",
              "      <td>5.000000</td>\n",
              "      <td>1950.750000</td>\n",
              "      <td>142250.000000</td>\n",
              "    </tr>\n",
              "    <tr>\n",
              "      <th>50%</th>\n",
              "      <td>10510.000000</td>\n",
              "      <td>0.0</td>\n",
              "      <td>542.000000</td>\n",
              "      <td>5.000000</td>\n",
              "      <td>1976.500000</td>\n",
              "      <td>188750.000000</td>\n",
              "    </tr>\n",
              "    <tr>\n",
              "      <th>75%</th>\n",
              "      <td>12010.750000</td>\n",
              "      <td>0.0</td>\n",
              "      <td>607.250000</td>\n",
              "      <td>7.000000</td>\n",
              "      <td>2002.000000</td>\n",
              "      <td>235032.000000</td>\n",
              "    </tr>\n",
              "    <tr>\n",
              "      <th>max</th>\n",
              "      <td>53227.000000</td>\n",
              "      <td>0.0</td>\n",
              "      <td>1014.000000</td>\n",
              "      <td>9.000000</td>\n",
              "      <td>2009.000000</td>\n",
              "      <td>437154.000000</td>\n",
              "    </tr>\n",
              "  </tbody>\n",
              "</table>\n",
              "</div>"
            ],
            "text/plain": [
              "            LotArea  PoolArea  ...    YearBuilt      SalePrice\n",
              "count     60.000000      60.0  ...    60.000000      60.000000\n",
              "mean   11633.933333       0.0  ...  1972.116667  197536.150000\n",
              "std     8099.879028       0.0  ...    30.522618   74910.507145\n",
              "min     1477.000000       0.0  ...  1875.000000   80000.000000\n",
              "25%     8068.500000       0.0  ...  1950.750000  142250.000000\n",
              "50%    10510.000000       0.0  ...  1976.500000  188750.000000\n",
              "75%    12010.750000       0.0  ...  2002.000000  235032.000000\n",
              "max    53227.000000       0.0  ...  2009.000000  437154.000000\n",
              "\n",
              "[8 rows x 6 columns]"
            ]
          },
          "metadata": {
            "tags": []
          },
          "execution_count": 4
        }
      ]
    },
    {
      "cell_type": "markdown",
      "metadata": {
        "id": "tgh2pe9lJtr6",
        "colab_type": "text"
      },
      "source": [
        "Visualizando o dataset"
      ]
    },
    {
      "cell_type": "code",
      "metadata": {
        "id": "EvY28fJdJxey",
        "colab_type": "code",
        "outputId": "a128e029-1ad2-43e2-f720-98f9f3cd5670",
        "colab": {
          "base_uri": "https://localhost:8080/"
        }
      },
      "source": [
        "df.head(5)"
      ],
      "execution_count": 0,
      "outputs": [
        {
          "output_type": "execute_result",
          "data": {
            "text/html": [
              "<div>\n",
              "<style scoped>\n",
              "    .dataframe tbody tr th:only-of-type {\n",
              "        vertical-align: middle;\n",
              "    }\n",
              "\n",
              "    .dataframe tbody tr th {\n",
              "        vertical-align: top;\n",
              "    }\n",
              "\n",
              "    .dataframe thead th {\n",
              "        text-align: right;\n",
              "    }\n",
              "</style>\n",
              "<table border=\"1\" class=\"dataframe\">\n",
              "  <thead>\n",
              "    <tr style=\"text-align: right;\">\n",
              "      <th></th>\n",
              "      <th>LotArea</th>\n",
              "      <th>PoolArea</th>\n",
              "      <th>GarageArea</th>\n",
              "      <th>OverallCond</th>\n",
              "      <th>YearBuilt</th>\n",
              "      <th>MSZoning</th>\n",
              "      <th>SalePrice</th>\n",
              "    </tr>\n",
              "  </thead>\n",
              "  <tbody>\n",
              "    <tr>\n",
              "      <th>789</th>\n",
              "      <td>12205</td>\n",
              "      <td>0</td>\n",
              "      <td>444</td>\n",
              "      <td>8</td>\n",
              "      <td>1966</td>\n",
              "      <td>RL</td>\n",
              "      <td>187500</td>\n",
              "    </tr>\n",
              "    <tr>\n",
              "      <th>1039</th>\n",
              "      <td>1477</td>\n",
              "      <td>0</td>\n",
              "      <td>286</td>\n",
              "      <td>4</td>\n",
              "      <td>1970</td>\n",
              "      <td>RM</td>\n",
              "      <td>80000</td>\n",
              "    </tr>\n",
              "    <tr>\n",
              "      <th>868</th>\n",
              "      <td>14762</td>\n",
              "      <td>0</td>\n",
              "      <td>672</td>\n",
              "      <td>6</td>\n",
              "      <td>1948</td>\n",
              "      <td>RL</td>\n",
              "      <td>169000</td>\n",
              "    </tr>\n",
              "    <tr>\n",
              "      <th>782</th>\n",
              "      <td>16285</td>\n",
              "      <td>0</td>\n",
              "      <td>605</td>\n",
              "      <td>5</td>\n",
              "      <td>2001</td>\n",
              "      <td>RL</td>\n",
              "      <td>187100</td>\n",
              "    </tr>\n",
              "    <tr>\n",
              "      <th>611</th>\n",
              "      <td>10395</td>\n",
              "      <td>0</td>\n",
              "      <td>564</td>\n",
              "      <td>6</td>\n",
              "      <td>1978</td>\n",
              "      <td>RL</td>\n",
              "      <td>148000</td>\n",
              "    </tr>\n",
              "  </tbody>\n",
              "</table>\n",
              "</div>"
            ],
            "text/plain": [
              "      LotArea  PoolArea  GarageArea  OverallCond  YearBuilt MSZoning  SalePrice\n",
              "789     12205         0         444            8       1966       RL     187500\n",
              "1039     1477         0         286            4       1970       RM      80000\n",
              "868     14762         0         672            6       1948       RL     169000\n",
              "782     16285         0         605            5       2001       RL     187100\n",
              "611     10395         0         564            6       1978       RL     148000"
            ]
          },
          "metadata": {
            "tags": []
          },
          "execution_count": 5
        }
      ]
    },
    {
      "cell_type": "markdown",
      "metadata": {
        "id": "jiMAqVghJylz",
        "colab_type": "text"
      },
      "source": [
        "Preenchendo os valores númericos nulos (NA) com a mediana."
      ]
    },
    {
      "cell_type": "code",
      "metadata": {
        "id": "KFDodNK4JzlR",
        "colab_type": "code",
        "outputId": "10db24ec-8525-476b-d43b-0ea991658a50",
        "colab": {
          "base_uri": "https://localhost:8080/"
        }
      },
      "source": [
        "df = df.fillna(df.median())\n",
        "\n",
        "df.head(5)"
      ],
      "execution_count": 0,
      "outputs": [
        {
          "output_type": "execute_result",
          "data": {
            "text/html": [
              "<div>\n",
              "<style scoped>\n",
              "    .dataframe tbody tr th:only-of-type {\n",
              "        vertical-align: middle;\n",
              "    }\n",
              "\n",
              "    .dataframe tbody tr th {\n",
              "        vertical-align: top;\n",
              "    }\n",
              "\n",
              "    .dataframe thead th {\n",
              "        text-align: right;\n",
              "    }\n",
              "</style>\n",
              "<table border=\"1\" class=\"dataframe\">\n",
              "  <thead>\n",
              "    <tr style=\"text-align: right;\">\n",
              "      <th></th>\n",
              "      <th>LotArea</th>\n",
              "      <th>PoolArea</th>\n",
              "      <th>GarageArea</th>\n",
              "      <th>OverallCond</th>\n",
              "      <th>YearBuilt</th>\n",
              "      <th>MSZoning</th>\n",
              "      <th>SalePrice</th>\n",
              "    </tr>\n",
              "  </thead>\n",
              "  <tbody>\n",
              "    <tr>\n",
              "      <th>789</th>\n",
              "      <td>12205</td>\n",
              "      <td>0</td>\n",
              "      <td>444</td>\n",
              "      <td>8</td>\n",
              "      <td>1966</td>\n",
              "      <td>RL</td>\n",
              "      <td>187500</td>\n",
              "    </tr>\n",
              "    <tr>\n",
              "      <th>1039</th>\n",
              "      <td>1477</td>\n",
              "      <td>0</td>\n",
              "      <td>286</td>\n",
              "      <td>4</td>\n",
              "      <td>1970</td>\n",
              "      <td>RM</td>\n",
              "      <td>80000</td>\n",
              "    </tr>\n",
              "    <tr>\n",
              "      <th>868</th>\n",
              "      <td>14762</td>\n",
              "      <td>0</td>\n",
              "      <td>672</td>\n",
              "      <td>6</td>\n",
              "      <td>1948</td>\n",
              "      <td>RL</td>\n",
              "      <td>169000</td>\n",
              "    </tr>\n",
              "    <tr>\n",
              "      <th>782</th>\n",
              "      <td>16285</td>\n",
              "      <td>0</td>\n",
              "      <td>605</td>\n",
              "      <td>5</td>\n",
              "      <td>2001</td>\n",
              "      <td>RL</td>\n",
              "      <td>187100</td>\n",
              "    </tr>\n",
              "    <tr>\n",
              "      <th>611</th>\n",
              "      <td>10395</td>\n",
              "      <td>0</td>\n",
              "      <td>564</td>\n",
              "      <td>6</td>\n",
              "      <td>1978</td>\n",
              "      <td>RL</td>\n",
              "      <td>148000</td>\n",
              "    </tr>\n",
              "  </tbody>\n",
              "</table>\n",
              "</div>"
            ],
            "text/plain": [
              "      LotArea  PoolArea  GarageArea  OverallCond  YearBuilt MSZoning  SalePrice\n",
              "789     12205         0         444            8       1966       RL     187500\n",
              "1039     1477         0         286            4       1970       RM      80000\n",
              "868     14762         0         672            6       1948       RL     169000\n",
              "782     16285         0         605            5       2001       RL     187100\n",
              "611     10395         0         564            6       1978       RL     148000"
            ]
          },
          "metadata": {
            "tags": []
          },
          "execution_count": 6
        }
      ]
    },
    {
      "cell_type": "markdown",
      "metadata": {
        "id": "jXWksGyoJ0u3",
        "colab_type": "text"
      },
      "source": [
        "Definindo as variáveis independentes"
      ]
    },
    {
      "cell_type": "code",
      "metadata": {
        "id": "lJ0y3JijJ1ii",
        "colab_type": "code",
        "outputId": "77cc56c0-93f3-4e2b-f18f-a891e73ccd0d",
        "colab": {
          "base_uri": "https://localhost:8080/"
        }
      },
      "source": [
        "X = df.loc[:, 'LotArea'].values.reshape(-1,1)\n",
        "X[:5]\n"
      ],
      "execution_count": 0,
      "outputs": [
        {
          "output_type": "execute_result",
          "data": {
            "text/plain": [
              "array([[12205],\n",
              "       [ 1477],\n",
              "       [14762],\n",
              "       [16285],\n",
              "       [10395]])"
            ]
          },
          "metadata": {
            "tags": []
          },
          "execution_count": 7
        }
      ]
    },
    {
      "cell_type": "markdown",
      "metadata": {
        "id": "uISYBhKqUqpQ",
        "colab_type": "text"
      },
      "source": [
        "Definindo as variáveis dependentes."
      ]
    },
    {
      "cell_type": "code",
      "metadata": {
        "id": "okQl0J1SUq9h",
        "colab_type": "code",
        "outputId": "24fde24a-67e1-4cc1-e510-cf6b82248f43",
        "colab": {
          "base_uri": "https://localhost:8080/"
        }
      },
      "source": [
        "y = df.loc[:, 'SalePrice'].values.reshape(-1,1)\n",
        "y[:5]\n"
      ],
      "execution_count": 0,
      "outputs": [
        {
          "output_type": "execute_result",
          "data": {
            "text/plain": [
              "array([[187500],\n",
              "       [ 80000],\n",
              "       [169000],\n",
              "       [187100],\n",
              "       [148000]])"
            ]
          },
          "metadata": {
            "tags": []
          },
          "execution_count": 8
        }
      ]
    },
    {
      "cell_type": "markdown",
      "metadata": {
        "id": "yzJ08rJ4J3CS",
        "colab_type": "text"
      },
      "source": [
        " Criando os subconjuntos de treinamento e testes"
      ]
    },
    {
      "cell_type": "code",
      "metadata": {
        "id": "tVz1mTUOJ4Tb",
        "colab_type": "code",
        "outputId": "e6abb0df-30fc-4bf8-9248-002ebcaa7ec9",
        "colab": {
          "base_uri": "https://localhost:8080/"
        }
      },
      "source": [
        "X_train, X_test, y_train, y_test = train_test_split(X, y, test_size = 0.2, random_state = 42)\n",
        "\n",
        "print(\"Tamanho do Dataset. {}\".format(df.shape[0]))\n",
        "print(\"Tamanho do Conjunto de Treinamento. {}\".format(len(X_train)))\n",
        "print(\"Tamanho do Conjunto de Testes. {}\".format(len(X_test)))"
      ],
      "execution_count": 0,
      "outputs": [
        {
          "output_type": "stream",
          "text": [
            "Tamanho do Dataset. 60\n",
            "Tamanho do Conjunto de Treinamento. 48\n",
            "Tamanho do Conjunto de Testes. 12\n"
          ],
          "name": "stdout"
        }
      ]
    },
    {
      "cell_type": "markdown",
      "metadata": {
        "id": "OcQtLvcXJ7NT",
        "colab_type": "text"
      },
      "source": [
        "Normalizando as features "
      ]
    },
    {
      "cell_type": "code",
      "metadata": {
        "id": "aXvlvQ9DJ7i3",
        "colab_type": "code",
        "colab": {}
      },
      "source": [
        "#X_train = feature_scaling(X_train)\n",
        "#X_test = feature_scaling(X_test)\n",
        "\n",
        "#X_train[:5]"
      ],
      "execution_count": 0,
      "outputs": []
    },
    {
      "cell_type": "markdown",
      "metadata": {
        "colab_type": "text",
        "id": "hDpjk2hPqBar"
      },
      "source": [
        "### Etapa de Treinamento e Validação do Modelo"
      ]
    },
    {
      "cell_type": "markdown",
      "metadata": {
        "colab_type": "text",
        "id": "5ZQOFczoqBat"
      },
      "source": [
        "Importando e treinando o modelo de Regressao Linear com o Conjunto de Treinamento:"
      ]
    },
    {
      "cell_type": "code",
      "metadata": {
        "colab_type": "code",
        "outputId": "84f2ff8a-ab60-4eda-a181-7505c2771d27",
        "id": "TARpu6xZqBat",
        "colab": {
          "base_uri": "https://localhost:8080/",
          "height": 34
        }
      },
      "source": [
        "from sklearn.linear_model import LinearRegression\n",
        "\n",
        "regressor = LinearRegression()\n",
        "regressor.fit(X_train, y_train)"
      ],
      "execution_count": 0,
      "outputs": [
        {
          "output_type": "execute_result",
          "data": {
            "text/plain": [
              "LinearRegression(copy_X=True, fit_intercept=True, n_jobs=None, normalize=False)"
            ]
          },
          "metadata": {
            "tags": []
          },
          "execution_count": 13
        }
      ]
    },
    {
      "cell_type": "markdown",
      "metadata": {
        "id": "SAyttRhcqsz_",
        "colab_type": "text"
      },
      "source": [
        "Transformando as features na quarta ordem polinomial:"
      ]
    },
    {
      "cell_type": "code",
      "metadata": {
        "id": "OZyCBmL2qs-X",
        "colab_type": "code",
        "outputId": "a171e5f2-8798-4ae4-ae51-f25c6094ac5a",
        "colab": {
          "base_uri": "https://localhost:8080/",
          "height": 51
        }
      },
      "source": [
        "from sklearn.preprocessing import PolynomialFeatures\n",
        "\n",
        "poly_reg = PolynomialFeatures(degree = 4)\n",
        "X_poly = poly_reg.fit_transform(X)\n",
        "poly_reg.fit(X_poly, y)"
      ],
      "execution_count": 0,
      "outputs": [
        {
          "output_type": "execute_result",
          "data": {
            "text/plain": [
              "PolynomialFeatures(degree=4, include_bias=True, interaction_only=False,\n",
              "                   order='C')"
            ]
          },
          "metadata": {
            "tags": []
          },
          "execution_count": 14
        }
      ]
    },
    {
      "cell_type": "markdown",
      "metadata": {
        "id": "92IzIbgrrDdG",
        "colab_type": "text"
      },
      "source": [
        "Treinando o modelo de regressão polynomial com o conjunto de treinamento:"
      ]
    },
    {
      "cell_type": "code",
      "metadata": {
        "id": "AiAG4XSPrDy9",
        "colab_type": "code",
        "outputId": "2c6ea955-7780-45e6-a656-ccc9d73a5040",
        "colab": {
          "base_uri": "https://localhost:8080/",
          "height": 34
        }
      },
      "source": [
        "lin_reg_poly = LinearRegression()\n",
        "lin_reg_poly.fit(X_poly, y)\n"
      ],
      "execution_count": 0,
      "outputs": [
        {
          "output_type": "execute_result",
          "data": {
            "text/plain": [
              "LinearRegression(copy_X=True, fit_intercept=True, n_jobs=None, normalize=False)"
            ]
          },
          "metadata": {
            "tags": []
          },
          "execution_count": 15
        }
      ]
    },
    {
      "cell_type": "markdown",
      "metadata": {
        "colab_type": "text",
        "id": "5Xy5SEAuqBaz"
      },
      "source": [
        "Prevendo os resultados do modelo criado com o conjunto de testes"
      ]
    },
    {
      "cell_type": "code",
      "metadata": {
        "colab_type": "code",
        "outputId": "3849351d-be10-4909-dab5-d433d530c716",
        "id": "ySpZ9RyWqBa0",
        "colab": {
          "base_uri": "https://localhost:8080/",
          "height": 102
        }
      },
      "source": [
        "y_pred = lin_reg_poly.predict(X_poly)\n",
        "\n",
        "y_pred[:5]"
      ],
      "execution_count": 0,
      "outputs": [
        {
          "output_type": "execute_result",
          "data": {
            "text/plain": [
              "array([[210977.15912637],\n",
              "       [101264.45016613],\n",
              "       [231210.99529702],\n",
              "       [242927.64582841],\n",
              "       [195940.94028164]])"
            ]
          },
          "metadata": {
            "tags": []
          },
          "execution_count": 16
        }
      ]
    },
    {
      "cell_type": "markdown",
      "metadata": {
        "id": "wUrWgrvU0uTq",
        "colab_type": "text"
      },
      "source": [
        "Avaliando o modelo de regressão linear com a métrica r2:"
      ]
    },
    {
      "cell_type": "code",
      "metadata": {
        "id": "lETAHBqw0uC5",
        "colab_type": "code",
        "outputId": "5e6b148c-5b36-47cd-a50c-0169ef1f2082",
        "colab": {
          "base_uri": "https://localhost:8080/",
          "height": 34
        }
      },
      "source": [
        "regressor.score(X, y)"
      ],
      "execution_count": 0,
      "outputs": [
        {
          "output_type": "execute_result",
          "data": {
            "text/plain": [
              "0.14645648066355865"
            ]
          },
          "metadata": {
            "tags": []
          },
          "execution_count": 17
        }
      ]
    },
    {
      "cell_type": "markdown",
      "metadata": {
        "colab_type": "text",
        "id": "f8hyc24cqBa7"
      },
      "source": [
        "Avaliando o modelo de regressão polynomial com a métrica r2:"
      ]
    },
    {
      "cell_type": "code",
      "metadata": {
        "colab_type": "code",
        "outputId": "056cb5e0-7c27-4758-f3da-32562a9d737a",
        "id": "HDXwQ0ddqBa9",
        "colab": {
          "base_uri": "https://localhost:8080/",
          "height": 34
        }
      },
      "source": [
        "lin_reg_poly.score(X_poly, y)"
      ],
      "execution_count": 0,
      "outputs": [
        {
          "output_type": "execute_result",
          "data": {
            "text/plain": [
              "0.2824360477057858"
            ]
          },
          "metadata": {
            "tags": []
          },
          "execution_count": 18
        }
      ]
    },
    {
      "cell_type": "markdown",
      "metadata": {
        "colab_type": "text",
        "id": "gaRZCCjKqBbC"
      },
      "source": [
        "Visualizando os resultados da regressão linear:"
      ]
    },
    {
      "cell_type": "code",
      "metadata": {
        "colab_type": "code",
        "outputId": "20b55d18-dc2d-46a7-ca33-d5336a6f027f",
        "id": "GdApU1gYqBbD",
        "colab": {
          "base_uri": "https://localhost:8080/",
          "height": 295
        }
      },
      "source": [
        "plot_results_linear(X, y, regressor, 'Regressão Linear')"
      ],
      "execution_count": 0,
      "outputs": [
        {
          "output_type": "display_data",
          "data": {
            "image/png": "[encoded data removed]",
            "text/plain": [
              "<Figure size 432x288 with 1 Axes>"
            ]
          },
          "metadata": {
            "tags": []
          }
        }
      ]
    },
    {
      "cell_type": "markdown",
      "metadata": {
        "colab_type": "text",
        "id": "LlX6EwYwqBbG"
      },
      "source": [
        "Visualizando os resultados da regressão linear polinomial:"
      ]
    },
    {
      "cell_type": "code",
      "metadata": {
        "colab_type": "code",
        "outputId": "a8a22b70-a788-4185-f249-733db49e81e9",
        "id": "5GKwud8fqBbG",
        "colab": {
          "base_uri": "https://localhost:8080/",
          "height": 295
        }
      },
      "source": [
        "plot_results_poly(X, y, lin_reg_poly, poly_reg, 'Regressão Polynomial')"
      ],
      "execution_count": 0,
      "outputs": [
        {
          "output_type": "display_data",
          "data": {
            "image/png": "[encoded data removed]",
            "text/plain": [
              "<Figure size 432x288 with 1 Axes>"
            ]
          },
          "metadata": {
            "tags": []
          }
        }
      ]
    }
  ]
}