{
  "nbformat": 4,
  "nbformat_minor": 0,
  "metadata": {
    "colab": {
      "name": "treinamento_testes_validacao.ipynb",
      "provenance": [],
      "collapsed_sections": [],
      "toc_visible": true,
      "include_colab_link": true
    },
    "kernelspec": {
      "name": "python3",
      "display_name": "Python 3"
    }
  },
  "cells": [
    {
      "cell_type": "markdown",
      "metadata": {
        "id": "view-in-github",
        "colab_type": "text"
      },
      "source": [
        "<a href=\"https://colab.research.google.com/github/r4phael/Python-Deep-Learning-Projects/blob/master/notebooks/1_introducao/treinamento_testes_validacao.ipynb\" target=\"_parent\"><img src=\"https://colab.research.google.com/assets/colab-badge.svg\" alt=\"Open In Colab\"/></a>"
      ]
    },
    {
      "cell_type": "markdown",
      "metadata": {
        "id": "w-RUHj0kHSFa",
        "colab_type": "text"
      },
      "source": [
        "# Semana 1 - Aprendizagem Supervisonada\n",
        "---\n",
        "\n"
      ]
    },
    {
      "cell_type": "markdown",
      "metadata": {
        "id": "YfzjpU8DEBKk",
        "colab_type": "text"
      },
      "source": [
        "## Divisão dos dados e Avaliação"
      ]
    },
    {
      "cell_type": "markdown",
      "metadata": {
        "id": "fKb9Z7ynHEjA",
        "colab_type": "text"
      },
      "source": [
        "### Importando as bibliotecas"
      ]
    },
    {
      "cell_type": "code",
      "metadata": {
        "id": "Ml7cyyo3abml",
        "colab_type": "code",
        "colab": {}
      },
      "source": [
        "import pandas as pd\n",
        "import random\n",
        "import numpy as np\n",
        "from sklearn.model_selection import train_test_split\n",
        "from sklearn.model_selection import KFold\n",
        "\n"
      ],
      "execution_count": 0,
      "outputs": []
    },
    {
      "cell_type": "markdown",
      "metadata": {
        "id": "74OGEe-tHc9r",
        "colab_type": "text"
      },
      "source": [
        "### Importando os dados"
      ]
    },
    {
      "cell_type": "code",
      "metadata": {
        "id": "XhtrtAb9EvT7",
        "colab_type": "code",
        "outputId": "530fc497-50e0-4ef4-c35d-9fba49237d55",
        "colab": {
          "base_uri": "https://localhost:8080/",
          "height": 359
        }
      },
      "source": [
        "data_url = 'https://raw.githubusercontent.com/intelligentagents/aprendizagem-supervisionada/master/data/preprocessing_data.csv'\n",
        "\n",
        "df = pd.read_csv(data_url)\n",
        "\n",
        "df.head(10)"
      ],
      "execution_count": 3,
      "outputs": [
        {
          "output_type": "execute_result",
          "data": {
            "text/html": [
              "<div>\n",
              "<style scoped>\n",
              "    .dataframe tbody tr th:only-of-type {\n",
              "        vertical-align: middle;\n",
              "    }\n",
              "\n",
              "    .dataframe tbody tr th {\n",
              "        vertical-align: top;\n",
              "    }\n",
              "\n",
              "    .dataframe thead th {\n",
              "        text-align: right;\n",
              "    }\n",
              "</style>\n",
              "<table border=\"1\" class=\"dataframe\">\n",
              "  <thead>\n",
              "    <tr style=\"text-align: right;\">\n",
              "      <th></th>\n",
              "      <th>City</th>\n",
              "      <th>Age</th>\n",
              "      <th>Salary</th>\n",
              "      <th>Sex</th>\n",
              "      <th>Acquired</th>\n",
              "    </tr>\n",
              "  </thead>\n",
              "  <tbody>\n",
              "    <tr>\n",
              "      <th>0</th>\n",
              "      <td>Paraiba</td>\n",
              "      <td>42.0</td>\n",
              "      <td>6500.0</td>\n",
              "      <td>M</td>\n",
              "      <td>No</td>\n",
              "    </tr>\n",
              "    <tr>\n",
              "      <th>1</th>\n",
              "      <td>Sao Paulo</td>\n",
              "      <td>21.0</td>\n",
              "      <td>4300.0</td>\n",
              "      <td>F</td>\n",
              "      <td>Yes</td>\n",
              "    </tr>\n",
              "    <tr>\n",
              "      <th>2</th>\n",
              "      <td>Brasilia</td>\n",
              "      <td>28.0</td>\n",
              "      <td>4900.0</td>\n",
              "      <td>F</td>\n",
              "      <td>No</td>\n",
              "    </tr>\n",
              "    <tr>\n",
              "      <th>3</th>\n",
              "      <td>Recife</td>\n",
              "      <td>35.0</td>\n",
              "      <td>5400.0</td>\n",
              "      <td>F</td>\n",
              "      <td>No</td>\n",
              "    </tr>\n",
              "    <tr>\n",
              "      <th>4</th>\n",
              "      <td>Maceio</td>\n",
              "      <td>38.0</td>\n",
              "      <td>NaN</td>\n",
              "      <td>M</td>\n",
              "      <td>Yes</td>\n",
              "    </tr>\n",
              "    <tr>\n",
              "      <th>5</th>\n",
              "      <td>Sao Paulo</td>\n",
              "      <td>33.0</td>\n",
              "      <td>5200.0</td>\n",
              "      <td>M</td>\n",
              "      <td>Yes</td>\n",
              "    </tr>\n",
              "    <tr>\n",
              "      <th>6</th>\n",
              "      <td>Belo Horizonte</td>\n",
              "      <td>NaN</td>\n",
              "      <td>4700.0</td>\n",
              "      <td>F</td>\n",
              "      <td>No</td>\n",
              "    </tr>\n",
              "    <tr>\n",
              "      <th>7</th>\n",
              "      <td>Sao Paulo</td>\n",
              "      <td>45.0</td>\n",
              "      <td>7100.0</td>\n",
              "      <td>M</td>\n",
              "      <td>Yes</td>\n",
              "    </tr>\n",
              "    <tr>\n",
              "      <th>8</th>\n",
              "      <td>Paraiba</td>\n",
              "      <td>51.0</td>\n",
              "      <td>7500.0</td>\n",
              "      <td>F</td>\n",
              "      <td>No</td>\n",
              "    </tr>\n",
              "    <tr>\n",
              "      <th>9</th>\n",
              "      <td>Fortaleza</td>\n",
              "      <td>39.0</td>\n",
              "      <td>6000.0</td>\n",
              "      <td>M</td>\n",
              "      <td>Yes</td>\n",
              "    </tr>\n",
              "  </tbody>\n",
              "</table>\n",
              "</div>"
            ],
            "text/plain": [
              "             City   Age  Salary Sex Acquired\n",
              "0         Paraiba  42.0  6500.0   M       No\n",
              "1       Sao Paulo  21.0  4300.0   F      Yes\n",
              "2        Brasilia  28.0  4900.0   F       No\n",
              "3          Recife  35.0  5400.0   F       No\n",
              "4          Maceio  38.0     NaN   M      Yes\n",
              "5       Sao Paulo  33.0  5200.0   M      Yes\n",
              "6  Belo Horizonte   NaN  4700.0   F       No\n",
              "7       Sao Paulo  45.0  7100.0   M      Yes\n",
              "8         Paraiba  51.0  7500.0   F       No\n",
              "9       Fortaleza  39.0  6000.0   M      Yes"
            ]
          },
          "metadata": {
            "tags": []
          },
          "execution_count": 3
        }
      ]
    },
    {
      "cell_type": "markdown",
      "metadata": {
        "id": "G2M6D7WTALj1",
        "colab_type": "text"
      },
      "source": [
        "Descrevendo o dataset"
      ]
    },
    {
      "cell_type": "code",
      "metadata": {
        "id": "yNgIaT9EALvx",
        "colab_type": "code",
        "outputId": "6158244f-34de-4fa9-93b4-21621af2ae27",
        "colab": {
          "base_uri": "https://localhost:8080/",
          "height": 187
        }
      },
      "source": [
        "df.info()"
      ],
      "execution_count": 0,
      "outputs": [
        {
          "output_type": "stream",
          "text": [
            "<class 'pandas.core.frame.DataFrame'>\n",
            "RangeIndex: 10 entries, 0 to 9\n",
            "Data columns (total 5 columns):\n",
            "City        10 non-null object\n",
            "Age         9 non-null float64\n",
            "Salary      9 non-null float64\n",
            "Sex         10 non-null object\n",
            "Acquired    10 non-null object\n",
            "dtypes: float64(2), object(3)\n",
            "memory usage: 528.0+ bytes\n"
          ],
          "name": "stdout"
        }
      ]
    },
    {
      "cell_type": "markdown",
      "metadata": {
        "id": "BLxBSWlxuPMs",
        "colab_type": "text"
      },
      "source": [
        "Preenchendo os registros nuḿericos que não possuem valores com a média."
      ]
    },
    {
      "cell_type": "code",
      "metadata": {
        "id": "q5eiqJbywBLL",
        "colab_type": "code",
        "outputId": "7b8afeba-7dbc-48ae-8730-d8d97d722381",
        "colab": {
          "base_uri": "https://localhost:8080/",
          "height": 359
        }
      },
      "source": [
        "df = df.fillna(df.mean())\n",
        "\n",
        "df"
      ],
      "execution_count": 0,
      "outputs": [
        {
          "output_type": "execute_result",
          "data": {
            "text/html": [
              "<div>\n",
              "<style scoped>\n",
              "    .dataframe tbody tr th:only-of-type {\n",
              "        vertical-align: middle;\n",
              "    }\n",
              "\n",
              "    .dataframe tbody tr th {\n",
              "        vertical-align: top;\n",
              "    }\n",
              "\n",
              "    .dataframe thead th {\n",
              "        text-align: right;\n",
              "    }\n",
              "</style>\n",
              "<table border=\"1\" class=\"dataframe\">\n",
              "  <thead>\n",
              "    <tr style=\"text-align: right;\">\n",
              "      <th></th>\n",
              "      <th>City</th>\n",
              "      <th>Age</th>\n",
              "      <th>Salary</th>\n",
              "      <th>Sex</th>\n",
              "      <th>Acquired</th>\n",
              "    </tr>\n",
              "  </thead>\n",
              "  <tbody>\n",
              "    <tr>\n",
              "      <th>0</th>\n",
              "      <td>Paraiba</td>\n",
              "      <td>42.000000</td>\n",
              "      <td>6500.000000</td>\n",
              "      <td>M</td>\n",
              "      <td>No</td>\n",
              "    </tr>\n",
              "    <tr>\n",
              "      <th>1</th>\n",
              "      <td>Sao Paulo</td>\n",
              "      <td>21.000000</td>\n",
              "      <td>4300.000000</td>\n",
              "      <td>F</td>\n",
              "      <td>Yes</td>\n",
              "    </tr>\n",
              "    <tr>\n",
              "      <th>2</th>\n",
              "      <td>Brasilia</td>\n",
              "      <td>28.000000</td>\n",
              "      <td>4900.000000</td>\n",
              "      <td>F</td>\n",
              "      <td>No</td>\n",
              "    </tr>\n",
              "    <tr>\n",
              "      <th>3</th>\n",
              "      <td>Recife</td>\n",
              "      <td>35.000000</td>\n",
              "      <td>5400.000000</td>\n",
              "      <td>F</td>\n",
              "      <td>No</td>\n",
              "    </tr>\n",
              "    <tr>\n",
              "      <th>4</th>\n",
              "      <td>Maceio</td>\n",
              "      <td>38.000000</td>\n",
              "      <td>5733.333333</td>\n",
              "      <td>M</td>\n",
              "      <td>Yes</td>\n",
              "    </tr>\n",
              "    <tr>\n",
              "      <th>5</th>\n",
              "      <td>Sao Paulo</td>\n",
              "      <td>33.000000</td>\n",
              "      <td>5200.000000</td>\n",
              "      <td>M</td>\n",
              "      <td>Yes</td>\n",
              "    </tr>\n",
              "    <tr>\n",
              "      <th>6</th>\n",
              "      <td>Belo Horizonte</td>\n",
              "      <td>36.888889</td>\n",
              "      <td>4700.000000</td>\n",
              "      <td>F</td>\n",
              "      <td>No</td>\n",
              "    </tr>\n",
              "    <tr>\n",
              "      <th>7</th>\n",
              "      <td>Sao Paulo</td>\n",
              "      <td>45.000000</td>\n",
              "      <td>7100.000000</td>\n",
              "      <td>M</td>\n",
              "      <td>Yes</td>\n",
              "    </tr>\n",
              "    <tr>\n",
              "      <th>8</th>\n",
              "      <td>Paraiba</td>\n",
              "      <td>51.000000</td>\n",
              "      <td>7500.000000</td>\n",
              "      <td>F</td>\n",
              "      <td>No</td>\n",
              "    </tr>\n",
              "    <tr>\n",
              "      <th>9</th>\n",
              "      <td>Fortaleza</td>\n",
              "      <td>39.000000</td>\n",
              "      <td>6000.000000</td>\n",
              "      <td>M</td>\n",
              "      <td>Yes</td>\n",
              "    </tr>\n",
              "  </tbody>\n",
              "</table>\n",
              "</div>"
            ],
            "text/plain": [
              "             City        Age       Salary Sex Acquired\n",
              "0         Paraiba  42.000000  6500.000000   M       No\n",
              "1       Sao Paulo  21.000000  4300.000000   F      Yes\n",
              "2        Brasilia  28.000000  4900.000000   F       No\n",
              "3          Recife  35.000000  5400.000000   F       No\n",
              "4          Maceio  38.000000  5733.333333   M      Yes\n",
              "5       Sao Paulo  33.000000  5200.000000   M      Yes\n",
              "6  Belo Horizonte  36.888889  4700.000000   F       No\n",
              "7       Sao Paulo  45.000000  7100.000000   M      Yes\n",
              "8         Paraiba  51.000000  7500.000000   F       No\n",
              "9       Fortaleza  39.000000  6000.000000   M      Yes"
            ]
          },
          "metadata": {
            "tags": []
          },
          "execution_count": 6
        }
      ]
    },
    {
      "cell_type": "markdown",
      "metadata": {
        "id": "KosHK6EKEwIO",
        "colab_type": "text"
      },
      "source": [
        "Definindos as variáveis independentes (X) e dependente (y)."
      ]
    },
    {
      "cell_type": "code",
      "metadata": {
        "id": "dyTqObUCEwQc",
        "colab_type": "code",
        "colab": {}
      },
      "source": [
        "X = df.iloc[:, :-1].values"
      ],
      "execution_count": 0,
      "outputs": []
    },
    {
      "cell_type": "code",
      "metadata": {
        "id": "9S0CTHw7kULG",
        "colab_type": "code",
        "outputId": "beecf767-293e-4922-a16a-013fc90016e8",
        "colab": {
          "base_uri": "https://localhost:8080/",
          "height": 51
        }
      },
      "source": [
        "y = df.iloc[:, 4].values\n",
        "y"
      ],
      "execution_count": 0,
      "outputs": [
        {
          "output_type": "execute_result",
          "data": {
            "text/plain": [
              "array(['No', 'Yes', 'No', 'No', 'Yes', 'Yes', 'No', 'Yes', 'No', 'Yes'],\n",
              "      dtype=object)"
            ]
          },
          "metadata": {
            "tags": []
          },
          "execution_count": 8
        }
      ]
    },
    {
      "cell_type": "markdown",
      "metadata": {
        "id": "ecRq9DQdDlg6",
        "colab_type": "text"
      },
      "source": [
        "## Efetividade na Classificação"
      ]
    },
    {
      "cell_type": "markdown",
      "metadata": {
        "id": "zD4tGNnryE1V",
        "colab_type": "text"
      },
      "source": [
        "Criando as funções que calculam as diferentes métricas de efetividade:"
      ]
    },
    {
      "cell_type": "markdown",
      "metadata": {
        "colab_type": "text",
        "id": "68pzp-TcE8IC"
      },
      "source": [
        "### Cálculo das Medidas de Efetividade"
      ]
    },
    {
      "cell_type": "markdown",
      "metadata": {
        "id": "1-5WDv4uBsI9",
        "colab_type": "text"
      },
      "source": [
        "Definindo as funções de efetividade e importando bibliotecas:"
      ]
    },
    {
      "cell_type": "code",
      "metadata": {
        "id": "-dAa8zihyEP6",
        "colab_type": "code",
        "colab": {}
      },
      "source": [
        "# Função que calcula os reais positivos\n",
        "def rp(tp, fn):\n",
        "    return tp + fn\n",
        "\n",
        "# Função que calcula os reais negativos     \n",
        "def rn(fp, tn):\n",
        "    return fp + tn\n",
        "\n",
        "# Função que calcula as predições positivas  \n",
        "def pp(tp, fp):\n",
        "    return tp + fp\n",
        "\n",
        "# Função que calcula as predições negativas   \n",
        "def pn(fn, tn):\n",
        "    return fn + tn\n",
        "\n",
        "# Função que calcula Acurácia do modelo\n",
        "def accuracy (tp, fp, fn, tn):\n",
        "     accuracy = ((tp + tn) / (tp + tn + fp + fn))\n",
        "     return (accuracy)\n",
        "    \n",
        "# Função que calcula a Precisão \n",
        "def precision (tp, fp):\n",
        "    precision =  (tp / (tp + fp)) #predições positivas\n",
        "    return precision\n",
        "\n",
        "# Função que calcula o Recall ou Taxa de True Positive (TTP)\n",
        "def recall(tp, fn):\n",
        "    recall =  (tp / (tp + fn)) # reais positivos\n",
        "    return recall\n",
        "\n",
        "## Função que calcula o f-measure (media harmonica entre Precision e Recall)\n",
        "def f_measure(tp, fp, fn):\n",
        "    f_measure = (2 * precision(tp, fp) * recall(tp, fn)) / (recall(tp, fn) + precision(tp, fp))\n",
        "    return f_measure\n",
        "  \n",
        "# Função que calcula o Informedness \n",
        "def informedness(tp, fp, fn, tn):\n",
        "    inform = ((tp/rp(tp, fn)) - (fp/rn(fp, tn)))\n",
        "    return inform\n",
        "\n",
        "# Função que calcula o Markedness\n",
        "def markdness(tp, fp, fn, tn):    \n",
        "    mark = ((tp/pp(tp,fp)) - (fn/pn(fn,tn)))\n",
        "    return mark\n",
        "\n",
        "# Função que calcula a taxa de False Positive (TFP)\n",
        "def tfp(fp, tn):\n",
        "  tfp = (fp / (tn + fp))\n",
        "  return tfp"
      ],
      "execution_count": 0,
      "outputs": []
    },
    {
      "cell_type": "markdown",
      "metadata": {
        "id": "nnfyAWe60hcM",
        "colab_type": "text"
      },
      "source": [
        "Definido os valores da Matriz de Confusão"
      ]
    },
    {
      "cell_type": "code",
      "metadata": {
        "id": "WJOtHg660hnL",
        "colab_type": "code",
        "colab": {}
      },
      "source": [
        "tp, fp, fn, tn = [1,1,1,2]"
      ],
      "execution_count": 0,
      "outputs": []
    },
    {
      "cell_type": "markdown",
      "metadata": {
        "id": "cBnCTrcs0h75",
        "colab_type": "text"
      },
      "source": [
        "Calculando a Acurácia:"
      ]
    },
    {
      "cell_type": "code",
      "metadata": {
        "id": "JrDXlhEp0iD_",
        "colab_type": "code",
        "outputId": "869cef36-b9f9-4c10-d0bd-723ac3b704be",
        "colab": {
          "base_uri": "https://localhost:8080/",
          "height": 34
        }
      },
      "source": [
        "accuracy (tp, fp, fn, tn)"
      ],
      "execution_count": 0,
      "outputs": [
        {
          "output_type": "execute_result",
          "data": {
            "text/plain": [
              "0.6"
            ]
          },
          "metadata": {
            "tags": []
          },
          "execution_count": 11
        }
      ]
    },
    {
      "cell_type": "markdown",
      "metadata": {
        "id": "S1EgduK_0iMN",
        "colab_type": "text"
      },
      "source": [
        "Calculando a Precision:"
      ]
    },
    {
      "cell_type": "code",
      "metadata": {
        "id": "aL86q9YP0iTa",
        "colab_type": "code",
        "outputId": "5a02aa2a-a423-4f23-8391-7dab6a1693dd",
        "colab": {
          "base_uri": "https://localhost:8080/",
          "height": 34
        }
      },
      "source": [
        "precision (tp, fp)"
      ],
      "execution_count": 0,
      "outputs": [
        {
          "output_type": "execute_result",
          "data": {
            "text/plain": [
              "0.5"
            ]
          },
          "metadata": {
            "tags": []
          },
          "execution_count": 12
        }
      ]
    },
    {
      "cell_type": "markdown",
      "metadata": {
        "id": "RISuvABl1QRM",
        "colab_type": "text"
      },
      "source": [
        "Calculando o Recall:"
      ]
    },
    {
      "cell_type": "code",
      "metadata": {
        "id": "JHbboPE-1OBa",
        "colab_type": "code",
        "outputId": "cfb49698-1f83-4521-afbc-09931309e33b",
        "colab": {
          "base_uri": "https://localhost:8080/",
          "height": 34
        }
      },
      "source": [
        " recall(tp, fn)"
      ],
      "execution_count": 0,
      "outputs": [
        {
          "output_type": "execute_result",
          "data": {
            "text/plain": [
              "0.5"
            ]
          },
          "metadata": {
            "tags": []
          },
          "execution_count": 13
        }
      ]
    },
    {
      "cell_type": "markdown",
      "metadata": {
        "id": "D1Z-POVy1NzX",
        "colab_type": "text"
      },
      "source": [
        "Calculando o Informedness: "
      ]
    },
    {
      "cell_type": "code",
      "metadata": {
        "id": "_wmrvULM1TiK",
        "colab_type": "code",
        "outputId": "6583e214-baa5-4a0a-a566-c92efb81b4b2",
        "colab": {
          "base_uri": "https://localhost:8080/",
          "height": 34
        }
      },
      "source": [
        "informedness(tp, fp, fn, tn)"
      ],
      "execution_count": 0,
      "outputs": [
        {
          "output_type": "execute_result",
          "data": {
            "text/plain": [
              "0.16666666666666669"
            ]
          },
          "metadata": {
            "tags": []
          },
          "execution_count": 14
        }
      ]
    },
    {
      "cell_type": "markdown",
      "metadata": {
        "id": "SaQbezyD1OVs",
        "colab_type": "text"
      },
      "source": [
        "Calculando o Markedness:"
      ]
    },
    {
      "cell_type": "code",
      "metadata": {
        "id": "LRJSJy_n1oLZ",
        "colab_type": "code",
        "outputId": "e246edb4-d9b9-4e24-f300-6299b83cba41",
        "colab": {
          "base_uri": "https://localhost:8080/",
          "height": 34
        }
      },
      "source": [
        "markdness(tp, fp, fn, tn)"
      ],
      "execution_count": 0,
      "outputs": [
        {
          "output_type": "execute_result",
          "data": {
            "text/plain": [
              "0.16666666666666669"
            ]
          },
          "metadata": {
            "tags": []
          },
          "execution_count": 15
        }
      ]
    },
    {
      "cell_type": "markdown",
      "metadata": {
        "id": "sOaWuY7dE84q",
        "colab_type": "text"
      },
      "source": [
        "## Treinamento e Testes de Modelos de Predição"
      ]
    },
    {
      "cell_type": "markdown",
      "metadata": {
        "id": "PS0qgPh6ywSY",
        "colab_type": "text"
      },
      "source": [
        "### Divisão do Dataset"
      ]
    },
    {
      "cell_type": "markdown",
      "metadata": {
        "id": "D115SXB4GJGC",
        "colab_type": "text"
      },
      "source": [
        "Dividindo o dataset no conjunto de treinamento e testes. Normalmente o conjunto de testes equivale a 1/3 do dataset total:"
      ]
    },
    {
      "cell_type": "code",
      "metadata": {
        "id": "QImAPykOGMOz",
        "colab_type": "code",
        "outputId": "5cc77020-2fb9-4beb-e3e3-af5847d36070",
        "colab": {
          "base_uri": "https://localhost:8080/",
          "height": 68
        }
      },
      "source": [
        "X_train, X_test, y_train, y_test = train_test_split(X, y, test_size = 1/3, random_state = 42)\n",
        "\n",
        "print(\"Tamanho do Dataset. {}\".format(df.shape[0]))\n",
        "print(\"Tamanho do Conjunto de Treinamento. {}\".format(len(X_train)))\n",
        "print(\"Tamanho do Conjunto de Testes. {}\".format(len(X_test)))\n"
      ],
      "execution_count": 0,
      "outputs": [
        {
          "output_type": "stream",
          "text": [
            "Tamanho do Dataset. 10\n",
            "Tamanho do Conjunto de Treinamento. 6\n",
            "Tamanho do Conjunto de Testes. 4\n"
          ],
          "name": "stdout"
        }
      ]
    },
    {
      "cell_type": "markdown",
      "metadata": {
        "id": "bWSSELsxIpJz",
        "colab_type": "text"
      },
      "source": [
        "### Validação Cruzada\n"
      ]
    },
    {
      "cell_type": "markdown",
      "metadata": {
        "id": "W_gdmirlF12c",
        "colab_type": "text"
      },
      "source": [
        "Criando uma função para definir os índices de uma validação cruzada:"
      ]
    },
    {
      "cell_type": "code",
      "metadata": {
        "id": "zjwKGpKry2nv",
        "colab_type": "code",
        "colab": {}
      },
      "source": [
        "# Função que retorna os indices do validação cruzada em k folds\n",
        "def get_folds(indexes, k = 5, seed = 42):\n",
        "    \n",
        "    \"\"\"Função que retorna os indices do validação cruzada em k folds\n",
        "\n",
        "    Parâmetros\n",
        "    ----------\n",
        "    \n",
        "    indexes : array\n",
        "        Indices do dataframe\n",
        "    \n",
        "    k : int, optional, default=5\n",
        "        Numero de folds. Deve ser pelo menos 2.\n",
        "    \n",
        "    seed : int, optional, default=42\n",
        "        È o valor usado pelo gerador de números aleatórios;\n",
        "     \"\"\" \n",
        "        \n",
        "    size = len(indexes)\n",
        "    subset_size = round(size / k)\n",
        "    random.Random(seed).shuffle(indexes)\n",
        "    subsets = [indexes[x:x+subset_size] for x in range(0, len(indexes), subset_size)]\n",
        "    kfolds = []\n",
        "    for i in range(k):\n",
        "        test = subsets[i]\n",
        "        train = []\n",
        "        for subset in subsets:\n",
        "            if subset != test:\n",
        "                train.extend(subset)\n",
        "        kfolds.append((train, test))\n",
        "    return kfolds\n"
      ],
      "execution_count": 0,
      "outputs": []
    },
    {
      "cell_type": "markdown",
      "metadata": {
        "id": "ielGePYV0DoA",
        "colab_type": "text"
      },
      "source": [
        "Utilizando a função criada para definir os índices de treinamento e testes a serem utilizados usando 5 folds:"
      ]
    },
    {
      "cell_type": "code",
      "metadata": {
        "id": "GFCur9iMslil",
        "colab_type": "code",
        "outputId": "ca374f2d-d8db-4186-9b6c-a92c2a7fa2ce",
        "colab": {
          "base_uri": "https://localhost:8080/",
          "height": 34
        }
      },
      "source": [
        "instances = list(df.index.values)\n",
        "instances"
      ],
      "execution_count": 0,
      "outputs": [
        {
          "output_type": "execute_result",
          "data": {
            "text/plain": [
              "[0, 1, 2, 3, 4, 5, 6, 7, 8, 9]"
            ]
          },
          "metadata": {
            "tags": []
          },
          "execution_count": 22
        }
      ]
    },
    {
      "cell_type": "markdown",
      "metadata": {
        "id": "vQRhOlU3JOdY",
        "colab_type": "text"
      },
      "source": [
        "Visualizando a tupla com os índices da validação cruzada através da função criada:"
      ]
    },
    {
      "cell_type": "code",
      "metadata": {
        "id": "UQzzYUAFJOmz",
        "colab_type": "code",
        "outputId": "9f512dd6-e941-4ac9-adb6-eb14c083f86d",
        "colab": {
          "base_uri": "https://localhost:8080/",
          "height": 102
        }
      },
      "source": [
        "get_folds(list(df.index.values))"
      ],
      "execution_count": 0,
      "outputs": [
        {
          "output_type": "execute_result",
          "data": {
            "text/plain": [
              "[([2, 8, 5, 6, 9, 4, 0, 1], [7, 3]),\n",
              " ([7, 3, 5, 6, 9, 4, 0, 1], [2, 8]),\n",
              " ([7, 3, 2, 8, 9, 4, 0, 1], [5, 6]),\n",
              " ([7, 3, 2, 8, 5, 6, 0, 1], [9, 4]),\n",
              " ([7, 3, 2, 8, 5, 6, 9, 4], [0, 1])]"
            ]
          },
          "metadata": {
            "tags": []
          },
          "execution_count": 23
        }
      ]
    },
    {
      "cell_type": "code",
      "metadata": {
        "id": "FWvLV6ZjF2Ak",
        "colab_type": "code",
        "outputId": "f79ecfb3-34c8-4d4a-b20d-2828247fc05e",
        "colab": {
          "base_uri": "https://localhost:8080/",
          "height": 102
        }
      },
      "source": [
        "# Pecorrendo a lista que contém as tuplas com os índices de treinamento e testes.\n",
        "for fold in get_folds(list(df.index.values)):\n",
        "     print(\"Indices de Treinamento:\", fold[0], \"Indices de Testes:\", fold[1])"
      ],
      "execution_count": 0,
      "outputs": [
        {
          "output_type": "stream",
          "text": [
            "Indices de Treinamento: [2, 8, 5, 6, 9, 4, 0, 1] Indices de Testes: [7, 3]\n",
            "Indices de Treinamento: [7, 3, 5, 6, 9, 4, 0, 1] Indices de Testes: [2, 8]\n",
            "Indices de Treinamento: [7, 3, 2, 8, 9, 4, 0, 1] Indices de Testes: [5, 6]\n",
            "Indices de Treinamento: [7, 3, 2, 8, 5, 6, 0, 1] Indices de Testes: [9, 4]\n",
            "Indices de Treinamento: [7, 3, 2, 8, 5, 6, 9, 4] Indices de Testes: [0, 1]\n"
          ],
          "name": "stdout"
        }
      ]
    }
  ]
}